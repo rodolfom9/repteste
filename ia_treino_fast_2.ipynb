# Imports e configurações iniciais
import numpy as np
import cv2
import os
import matplotlib.pyplot as plt
from sklearn.model_selection import train_test_split
import tensorflow as tf
from tensorflow.keras.layers import Input, Conv2D, MaxPooling2D, UpSampling2D, concatenate, BatchNormalization, Dropout
from tensorflow.keras.models import Model

print("🚀 IA TREINO FAST - VERSÃO OTIMIZADA")
print("=" * 50)# IA Treino FAST - Versão Otimizada

Este notebook contém um modelo U-Net otimizado para segmentação de estradas a partir de imagens aéreas.

## Características:
- Baseado na versão que está funcionando melhor
- Modelo U-Net com skip connections
- Processamento completo do dataset
- Análise automática de thresholds
- Geração de comparações visuais

**Baseado no arquivo:** `ia_treino_fast_2.py`## Como usar no Google Colab

1. **Upload dos dados**: Faça upload das pastas `dataset` e `mascara` para o Colab
2. **Instalar dependências**: Execute a primeira célula para importar as bibliotecas
3. **Configurar caminhos**: Ajuste os caminhos das pastas se necessário
4. **Executar células**: Execute as células em ordem para treinar o modelo

## Saídas importantes

- **Modelo treinado**: `modelo_fast2.h5`
- **Grid de comparações**: `grid_todas_comparacoes.png`
- **Análise completa**: `analise_completa.png`
- **Comparações individuais**: Pasta `comparacoes_todas/`

## Nota
Este notebook é uma conversão direta do arquivo `ia_treino_fast_2.py` para facilitar o uso no Google Colab.